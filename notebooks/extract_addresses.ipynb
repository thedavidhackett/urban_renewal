{
 "cells": [
  {
   "cell_type": "code",
   "execution_count": 1,
   "id": "5ee10881",
   "metadata": {},
   "outputs": [],
   "source": [
    "import pandas as pd\n",
    "import usaddress\n",
    "import numpy as np\n",
    "from typing import Dict, List, Tuple, TypeAlias, Union\n",
    "from sklearn.model_selection import train_test_split\n",
    "import spacy\n",
    "from spacy.tokens import DocBin\n",
    "import os"
   ]
  },
  {
   "cell_type": "code",
   "execution_count": 2,
   "id": "696554c9",
   "metadata": {},
   "outputs": [],
   "source": [
    "nlp = spacy.blank(\"en\")"
   ]
  },
  {
   "cell_type": "code",
   "execution_count": 3,
   "id": "307a9828",
   "metadata": {},
   "outputs": [],
   "source": [
    "locations = pd.read_csv('../data/raw/urban_renewal_location_photos.csv')"
   ]
  },
  {
   "cell_type": "code",
   "execution_count": 4,
   "id": "17d411cd",
   "metadata": {},
   "outputs": [],
   "source": [
    "def clean_title(title):\n",
    "    return title.replace('.', '').replace('&', 'and')"
   ]
  },
  {
   "cell_type": "code",
   "execution_count": 5,
   "id": "61ca3207",
   "metadata": {},
   "outputs": [],
   "source": [
    "street_mask = locations.street.notna()\n",
    "locations.loc[street_mask, 'street_address'] = locations[street_mask].street.str.split(',').str[0].apply(clean_title)\n",
    "locations['title_cleaned'] = locations.title.apply(clean_title)"
   ]
  },
  {
   "cell_type": "code",
   "execution_count": 6,
   "id": "fe62eca0",
   "metadata": {},
   "outputs": [],
   "source": [
    "title_contains_street = locations[street_mask].apply(lambda x : x.street_address in x.title_cleaned, axis=1)"
   ]
  },
  {
   "cell_type": "code",
   "execution_count": 7,
   "id": "c264fab6",
   "metadata": {},
   "outputs": [],
   "source": [
    "labeled_examples = locations[street_mask&title_contains_street]\n",
    "le_last_index = len(labeled_examples) - 1"
   ]
  },
  {
   "cell_type": "code",
   "execution_count": 8,
   "id": "0b529c91",
   "metadata": {},
   "outputs": [],
   "source": [
    "def construct_street_name(x : Dict[str, str]) -> str:\n",
    "    \"\"\"\n",
    "    Constructs a street name from usaddress tags\n",
    "    \"\"\"\n",
    "    if not x.get('StreetName', False):\n",
    "        return np.nan\n",
    "    street_parts = []\n",
    "    for key in ['StreetNamePreDirectional', 'StreetName', 'StreetNamePostType', 'StreetNamePostDirectional']:\n",
    "        part = x.get(key, False)\n",
    "        if not part:\n",
    "            continue\n",
    "\n",
    "        street_parts.append(part)\n",
    "\n",
    "    return ' '.join(street_parts).strip()\n",
    " "
   ]
  },
  {
   "cell_type": "code",
   "execution_count": 9,
   "id": "f9ec0dc7",
   "metadata": {},
   "outputs": [],
   "source": [
    "all_streets = locations[street_mask].street_address.apply(lambda x : usaddress.tag(x)).str[0].apply(construct_street_name)\n",
    "street_names = all_streets[all_streets.notna()].unique()\n",
    "sn_last_index = len(street_names) -1\n",
    "\n",
    "highest_address = 9999\n",
    "\n",
    "blocks = list(range(100, highest_address, 100))\n",
    "blocks_last_index = len(blocks) - 1\n",
    "\n",
    "range_additions = [2, 2, 2, 4, 6, 8, 10, 20]\n",
    "ra_last_index = len(range_additions) - 1"
   ]
  },
  {
   "cell_type": "code",
   "execution_count": 10,
   "id": "015ea0ab",
   "metadata": {},
   "outputs": [],
   "source": [
    "Label : TypeAlias = Tuple[int, int, str]\n",
    "LabeledExample : TypeAlias = Tuple[str, List[Label]]\n",
    "\n",
    "def replace_street(new_street: str) -> str:\n",
    "    row = labeled_examples.iloc[np.random.randint(0, le_last_index)]\n",
    "    return row.title_cleaned.replace(row.street_address, new_street)\n",
    "\n",
    "def create_address_label(title : str, street : str) -> Label:\n",
    "    start = title.find(street)\n",
    "    end  = start + len(street)\n",
    "    return (start, end, 'ADDRESS')\n",
    "\n",
    "def create_labeled_example(new_street : str, example : Union[str, bool] = False) -> LabeledExample:\n",
    "    if not example:\n",
    "        example = replace_street(new_street)\n",
    "    label =  create_address_label(example, new_street)\n",
    "    return (example, [label]) \n",
    "\n",
    "def create_intersection_example() -> LabeledExample:\n",
    "    street1 = street_names[np.random.randint(0, sn_last_index)]\n",
    "    street2 = street_names[np.random.randint(0, sn_last_index)]\n",
    "    new_street = f'{street1} and {street2}'\n",
    "    return create_labeled_example(new_street)\n",
    "    \n",
    "def create_block_example() -> LabeledExample:\n",
    "    block = blocks[np.random.randint(0, blocks_last_index)]\n",
    "    street = street_names[np.random.randint(0, sn_last_index)]\n",
    "    new_street = f'{block} block of {street}'\n",
    "    return create_labeled_example(new_street)\n",
    "\n",
    "def create_range_example() -> LabeledExample:\n",
    "    start = np.random.randint(10, highest_address)\n",
    "    end = start + range_additions[np.random.randint(0, ra_last_index)]\n",
    "    street = street_names[np.random.randint(0, sn_last_index)]\n",
    "    new_street = f'{start}-{str(end)[-2:]} {street}'\n",
    "    return create_labeled_example(new_street)\n"
   ]
  },
  {
   "cell_type": "code",
   "execution_count": 11,
   "id": "a4f8e553",
   "metadata": {},
   "outputs": [],
   "source": [
    "current_examples = locations[street_mask&title_contains_street].drop_duplicates(\n",
    "    subset=['title']\n",
    ").apply(\n",
    "    lambda x : create_labeled_example(x.street_address, x.title_cleaned),\n",
    "    axis=1\n",
    ").tolist()"
   ]
  },
  {
   "cell_type": "code",
   "execution_count": 12,
   "id": "e29f0ba2",
   "metadata": {},
   "outputs": [],
   "source": [
    "n_intersections = 2000\n",
    "n_blocks = 200\n",
    "n_street_range = 200"
   ]
  },
  {
   "cell_type": "code",
   "execution_count": 13,
   "id": "804ec7cd",
   "metadata": {},
   "outputs": [],
   "source": [
    "intersection_examples = [create_intersection_example() for _ in range(n_intersections)]\n",
    "block_examples = [create_block_example() for _ in range(n_blocks)]\n",
    "range_examples = [create_range_example() for _ in range(n_street_range)]"
   ]
  },
  {
   "cell_type": "code",
   "execution_count": 14,
   "id": "6141c2f7",
   "metadata": {},
   "outputs": [],
   "source": [
    "all_examples = current_examples + intersection_examples + block_examples + range_examples"
   ]
  },
  {
   "cell_type": "code",
   "execution_count": 15,
   "id": "0e5575c2",
   "metadata": {},
   "outputs": [],
   "source": [
    "train_set, remainder = train_test_split(all_examples, test_size=0.2)\n",
    "eval_set, test_set = train_test_split(remainder, test_size=0.5)"
   ]
  },
  {
   "cell_type": "code",
   "execution_count": 21,
   "id": "085fb153",
   "metadata": {},
   "outputs": [],
   "source": [
    "def examples_to_spacy(dataset, outputfile):\n",
    "    count = 0\n",
    "    db = DocBin()\n",
    "    for text, annotations in dataset:\n",
    "        doc = nlp(text)\n",
    "        ents = []\n",
    "        for start, end, label in annotations:\n",
    "            span = doc.char_span(start, end, label=label)\n",
    "            ents.append(span)\n",
    "        try:\n",
    "            doc.ents = ents\n",
    "            db.add(doc)\n",
    "        except Exception as e:\n",
    "            count = count + 1\n",
    "    print(count)\n",
    "    db.to_disk(outputfile)"
   ]
  },
  {
   "cell_type": "code",
   "execution_count": 22,
   "id": "f07de1fc",
   "metadata": {},
   "outputs": [
    {
     "name": "stdout",
     "output_type": "stream",
     "text": [
      "27\n",
      "1\n",
      "6\n"
     ]
    }
   ],
   "source": [
    "\n",
    "root_path = '../data/processed/address_ner'\n",
    "os.makedirs(root_path, exist_ok=True)\n",
    "\n",
    "for dataset, outputfile in zip([train_set, eval_set, test_set], ['train.spacy', 'eval.spacy', 'test.spacy']):\n",
    "    examples_to_spacy(dataset, root_path + '/' + outputfile)"
   ]
  }
 ],
 "metadata": {
  "kernelspec": {
   "display_name": "venv",
   "language": "python",
   "name": "python3"
  },
  "language_info": {
   "codemirror_mode": {
    "name": "ipython",
    "version": 3
   },
   "file_extension": ".py",
   "mimetype": "text/x-python",
   "name": "python",
   "nbconvert_exporter": "python",
   "pygments_lexer": "ipython3",
   "version": "3.13.3"
  }
 },
 "nbformat": 4,
 "nbformat_minor": 5
}
